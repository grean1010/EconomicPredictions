{
 "cells": [
  {
   "cell_type": "code",
   "execution_count": 1,
   "metadata": {},
   "outputs": [],
   "source": [
    "# Dependenceis\n",
    "from splinter import Browser\n",
    "from bs4 import BeautifulSoup\n",
    "import pandas as pd\n",
    "import requests\n",
    "import time"
   ]
  },
  {
   "cell_type": "code",
   "execution_count": 2,
   "metadata": {},
   "outputs": [
    {
     "name": "stdout",
     "output_type": "stream",
     "text": [
      "/usr/local/bin/chromedriver\r\n"
     ]
    }
   ],
   "source": [
    "# MAC user: \n",
    "#https://splinter.readthedocs.io/en/latest/drivers/chrome.html\n",
    "!which chromedriver\n"
   ]
  },
  {
   "cell_type": "code",
   "execution_count": 3,
   "metadata": {},
   "outputs": [],
   "source": [
    "#executable_path = {'executable_path': '/usr/local/bin/chromedriver'}\n",
    "#browser = Browser('chrome', **executable_path, headless=False)\n",
    "\n",
    "# Initialize browser\n",
    "#def init_browser():\n",
    "# using the output above to define our executable path with splinter\n",
    "executable_path = {'executable_path': '/usr/local/bin/chromedriver'}\n",
    "browser = Browser('chrome', **executable_path, headless=True) #if headless=False, then the scrapped page will remain on display"
   ]
  },
  {
   "cell_type": "code",
   "execution_count": 4,
   "metadata": {},
   "outputs": [],
   "source": [
    "# Identifying the website to be scrapped and establishing a connection\n",
    "url = 'https://finance.yahoo.com/bonds/'\n",
    "browser.visit(url)\n"
   ]
  },
  {
   "cell_type": "code",
   "execution_count": 5,
   "metadata": {},
   "outputs": [],
   "source": [
    "# Creating a beautifulsoup object and parsing this object\n",
    "html = browser.html\n",
    "soup = BeautifulSoup(html, 'html.parser')\n",
    "#browser.quit() # this command will also close the browser window after scaping"
   ]
  },
  {
   "cell_type": "code",
   "execution_count": 6,
   "metadata": {},
   "outputs": [
    {
     "name": "stdout",
     "output_type": "stream",
     "text": [
      "[<span class=\"Trsdu(0.3s) Fz(s) Mt(4px) Mb(0px) Fw(b) D(ib)\" data-reactid=\"18\">2,986.20</span>, <span class=\"Trsdu(0.3s) C($dataRed)\" data-reactid=\"20\">-11.75</span>, <span class=\"Trsdu(0.3s) C($dataRed)\" data-reactid=\"23\">-0.39%</span>, <span class=\"Trsdu(0.3s) Fz(s) Mt(4px) Mb(0px) Fw(b) D(ib)\" data-reactid=\"31\">26,770.20</span>, <span class=\"Trsdu(0.3s) C($dataRed)\" data-reactid=\"33\">-255.70</span>, <span class=\"Trsdu(0.3s) C($dataRed)\" data-reactid=\"36\">-0.95%</span>, <span class=\"Trsdu(0.3s) Fz(s) Mt(4px) Mb(0px) Fw(b) D(ib)\" data-reactid=\"44\">8,089.54</span>, <span class=\"Trsdu(0.3s) C($dataRed)\" data-reactid=\"46\">-67.31</span>, <span class=\"Trsdu(0.3s) C($dataRed)\" data-reactid=\"49\">-0.83%</span>, <span class=\"Trsdu(0.3s) Fz(s) Mt(4px) Mb(0px) Fw(b) D(ib)\">1,535.48</span>, <span class=\"Trsdu(0.3s) C($dataRed)\">-6.36</span>, <span class=\"Trsdu(0.3s) C($dataRed)\">-0.41%</span>, <span class=\"Trsdu(0.3s) Fz(s) Mt(4px) Mb(0px) Fw(b) D(ib)\">53.70</span>, <span class=\"Trsdu(0.3s) C($dataRed)\">-0.23</span>, <span class=\"Trsdu(0.3s) C($dataRed)\">-0.43%</span>, <span class=\"Trsdu(0.3s)\" data-reactid=\"46\">0.0000</span>, <span class=\"Trsdu(0.3s)\" data-reactid=\"48\">0.00%</span>, <span class=\"Trsdu(0.3s) C($dataRed)\" data-reactid=\"60\">-0.0210</span>, <span class=\"Trsdu(0.3s) C($dataRed)\" data-reactid=\"62\">-1.33%</span>, <span class=\"Trsdu(0.3s) C($dataRed)\" data-reactid=\"74\">-0.0100</span>, <span class=\"Trsdu(0.3s) C($dataRed)\" data-reactid=\"76\">-0.57%</span>, <span class=\"Trsdu(0.3s) C($dataGreen)\" data-reactid=\"88\">+0.0030</span>, <span class=\"Trsdu(0.3s) C($dataGreen)\" data-reactid=\"90\">+0.13%</span>]\n"
     ]
    }
   ],
   "source": [
    "dow30 = soup.find_all('span', class_='Trsdu(0.3s)')\n",
    "print(dow30)"
   ]
  },
  {
   "cell_type": "code",
   "execution_count": 7,
   "metadata": {},
   "outputs": [
    {
     "data": {
      "text/plain": [
       "23"
      ]
     },
     "execution_count": 7,
     "metadata": {},
     "output_type": "execute_result"
    }
   ],
   "source": [
    "len(dow30)"
   ]
  },
  {
   "cell_type": "code",
   "execution_count": 8,
   "metadata": {},
   "outputs": [
    {
     "name": "stdout",
     "output_type": "stream",
     "text": [
      "2,986.20\n"
     ]
    }
   ],
   "source": [
    "print(dow30[0].text)"
   ]
  },
  {
   "cell_type": "code",
   "execution_count": 9,
   "metadata": {},
   "outputs": [
    {
     "name": "stdout",
     "output_type": "stream",
     "text": [
      "26,770.20\n",
      "2,986.20\n",
      "8,089.54\n"
     ]
    }
   ],
   "source": [
    "\n",
    "dow = (dow30[3].text)\n",
    "snp = (dow30[0].text)\n",
    "nasdaq = (dow30[6].text)\n",
    "\n",
    "print(dow)\n",
    "print(snp)\n",
    "print(nasdaq)"
   ]
  },
  {
   "cell_type": "code",
   "execution_count": 10,
   "metadata": {},
   "outputs": [
    {
     "name": "stdout",
     "output_type": "stream",
     "text": [
      "SymbolNameLast PriceChange% Change52 Week RangeDay Chart^IRX13 Week Treasury Bill1.62500.00000.00%^FVXTreasury Yield 5 Years1.5580-0.0210-1.33%^TNXTreasury Yield 10 Years1.7470-0.0100-0.57%^TYXTreasury Yield 30 Years2.2460+0.0030+0.13%\n"
     ]
    }
   ],
   "source": [
    "quotes = soup.find_all('div', class_='Ovx(a)')\n",
    "quote = quotes[0].text\n",
    "print(quote)"
   ]
  },
  {
   "cell_type": "code",
   "execution_count": 15,
   "metadata": {},
   "outputs": [
    {
     "name": "stdout",
     "output_type": "stream",
     "text": [
      "1.6250\n",
      "1.5580\n",
      "1.7470\n"
     ]
    }
   ],
   "source": [
    "wk13 = (quote[81:87])\n",
    "yr5 = (quote[124:130])\n",
    "yr10 = (quote[170:176])\n",
    "print(wk13)\n",
    "print(yr5)\n",
    "print(yr10)"
   ]
  },
  {
   "cell_type": "code",
   "execution_count": 12,
   "metadata": {},
   "outputs": [],
   "source": [
    "item_list = []"
   ]
  },
  {
   "cell_type": "code",
   "execution_count": 13,
   "metadata": {},
   "outputs": [
    {
     "ename": "TypeError",
     "evalue": "'builtin_function_or_method' object is not subscriptable",
     "output_type": "error",
     "traceback": [
      "\u001b[0;31m---------------------------------------------------------------------------\u001b[0m",
      "\u001b[0;31mTypeError\u001b[0m                                 Traceback (most recent call last)",
      "\u001b[0;32m<ipython-input-13-aef1f8b287fb>\u001b[0m in \u001b[0;36m<module>\u001b[0;34m\u001b[0m\n\u001b[0;32m----> 1\u001b[0;31m \u001b[0mitem_list\u001b[0m\u001b[0;34m.\u001b[0m\u001b[0mappend\u001b[0m\u001b[0;34m[\u001b[0m\u001b[0mdow\u001b[0m\u001b[0;34m]\u001b[0m\u001b[0;34m\u001b[0m\u001b[0;34m\u001b[0m\u001b[0m\n\u001b[0m",
      "\u001b[0;31mTypeError\u001b[0m: 'builtin_function_or_method' object is not subscriptable"
     ]
    }
   ],
   "source": [
    "item_list.append[dow]"
   ]
  },
  {
   "cell_type": "code",
   "execution_count": null,
   "metadata": {},
   "outputs": [],
   "source": []
  }
 ],
 "metadata": {
  "kernelspec": {
   "display_name": "Python 3",
   "language": "python",
   "name": "python3"
  },
  "language_info": {
   "codemirror_mode": {
    "name": "ipython",
    "version": 3
   },
   "file_extension": ".py",
   "mimetype": "text/x-python",
   "name": "python",
   "nbconvert_exporter": "python",
   "pygments_lexer": "ipython3",
   "version": "3.7.3"
  }
 },
 "nbformat": 4,
 "nbformat_minor": 2
}
