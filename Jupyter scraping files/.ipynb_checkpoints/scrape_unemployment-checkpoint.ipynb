{
 "cells": [
  {
   "cell_type": "code",
   "execution_count": 1,
   "metadata": {},
   "outputs": [],
   "source": [
    "# Dependenceis\n",
    "from splinter import Browser\n",
    "from bs4 import BeautifulSoup\n",
    "import pandas as pd\n",
    "import requests\n",
    "import time"
   ]
  },
  {
   "cell_type": "code",
   "execution_count": 2,
   "metadata": {},
   "outputs": [
    {
     "name": "stdout",
     "output_type": "stream",
     "text": [
      "/usr/local/bin/chromedriver\r\n"
     ]
    }
   ],
   "source": [
    "# MAC user: \n",
    "#https://splinter.readthedocs.io/en/latest/drivers/chrome.html\n",
    "!which chromedriver\n"
   ]
  },
  {
   "cell_type": "code",
   "execution_count": 3,
   "metadata": {},
   "outputs": [],
   "source": [
    "#executable_path = {'executable_path': '/usr/local/bin/chromedriver'}\n",
    "#browser = Browser('chrome', **executable_path, headless=False)\n",
    "\n",
    "# Initialize browser\n",
    "#def init_browser():\n",
    "# using the output above to define our executable path with splinter\n",
    "executable_path = {'executable_path': '/usr/local/bin/chromedriver'}\n",
    "browser = Browser('chrome', **executable_path, headless=True) #if headless=False, then the scrapped page will remain on display"
   ]
  },
  {
   "cell_type": "code",
   "execution_count": 4,
   "metadata": {},
   "outputs": [],
   "source": [
    "# Identifying the website to be scrapped and establishing a connection\n",
    "url = 'https://www.google.com/search?rlz=1C5CHFA_enUS840US848&sxsrf=ACYBGNSWmRd3yXsKiJmADGqbIn59XdmoHA%3A1569866539880&ei=K0OSXbCmNann5gKFgbzYBQ&q=current+federal+unemployment+rate&oq=current+federal+unemployment+rate&gs_l=psy-ab.3..0j0i30j0i8i30l2.24028.24900..26933...0.2..0.82.567.8....3..0....1..gws-wiz.......0i71j35i304i39j0i13j0i7i30j0i8i7i30.KnvecmdU8IY&ved=0ahUKEwjw59DLkPnkAhWps1kKHYUAD1sQ4dUDCAs&uact=5'\n",
    "browser.visit(url)\n"
   ]
  },
  {
   "cell_type": "code",
   "execution_count": 5,
   "metadata": {},
   "outputs": [],
   "source": [
    "# Creating a beautifulsoup object and parsing this object\n",
    "html = browser.html\n",
    "soup = BeautifulSoup(html, 'html.parser')\n",
    "#browser.quit() # this command will also close the browser window after scaping"
   ]
  },
  {
   "cell_type": "code",
   "execution_count": 6,
   "metadata": {},
   "outputs": [
    {
     "name": "stdout",
     "output_type": "stream",
     "text": [
      "[<div class=\"Z0LcW AZCkJd\" data-tts=\"answers\" data-tts-text=\"3.7 percent\">3.7 percent</div>, <div class=\"Z0LcW AZCkJd\" data-tts=\"answers\" data-tts-text=\"4.0 percent\">4.0 percent</div>, <div class=\"Z0LcW AZCkJd\" data-tts=\"answers\" data-tts-text=\"Alaska\">Alaska</div>]\n"
     ]
    }
   ],
   "source": [
    "unemploy = soup.find_all('div', class_ = \"Z0LcW AZCkJd\")\n",
    "print(unemploy)"
   ]
  },
  {
   "cell_type": "code",
   "execution_count": 7,
   "metadata": {},
   "outputs": [
    {
     "name": "stdout",
     "output_type": "stream",
     "text": [
      "3.7 percent\n"
     ]
    }
   ],
   "source": [
    "unemployment = unemploy[0].text\n",
    "print(unemployment)"
   ]
  },
  {
   "cell_type": "code",
   "execution_count": null,
   "metadata": {},
   "outputs": [],
   "source": []
  }
 ],
 "metadata": {
  "kernelspec": {
   "display_name": "Python 3",
   "language": "python",
   "name": "python3"
  },
  "language_info": {
   "codemirror_mode": {
    "name": "ipython",
    "version": 3
   },
   "file_extension": ".py",
   "mimetype": "text/x-python",
   "name": "python",
   "nbconvert_exporter": "python",
   "pygments_lexer": "ipython3",
   "version": "3.7.3"
  }
 },
 "nbformat": 4,
 "nbformat_minor": 2
}
