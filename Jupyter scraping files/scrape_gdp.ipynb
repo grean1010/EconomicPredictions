{
 "cells": [
  {
   "cell_type": "code",
   "execution_count": 1,
   "metadata": {},
   "outputs": [],
   "source": [
    "# Dependenceis\n",
    "from splinter import Browser\n",
    "from bs4 import BeautifulSoup\n",
    "import pandas as pd\n",
    "import requests\n",
    "import time"
   ]
  },
  {
   "cell_type": "code",
   "execution_count": 2,
   "metadata": {},
   "outputs": [
    {
     "name": "stdout",
     "output_type": "stream",
     "text": [
      "/usr/local/bin/chromedriver\r\n"
     ]
    }
   ],
   "source": [
    "# MAC user: \n",
    "#https://splinter.readthedocs.io/en/latest/drivers/chrome.html\n",
    "!which chromedriver\n"
   ]
  },
  {
   "cell_type": "code",
   "execution_count": 3,
   "metadata": {},
   "outputs": [],
   "source": [
    "#executable_path = {'executable_path': '/usr/local/bin/chromedriver'}\n",
    "#browser = Browser('chrome', **executable_path, headless=False)\n",
    "\n",
    "# Initialize browser\n",
    "#def init_browser():\n",
    "# using the output above to define our executable path with splinter\n",
    "executable_path = {'executable_path': '/usr/local/bin/chromedriver'}\n",
    "browser = Browser('chrome', **executable_path, headless=True) #if headless=False, then the scrapped page will remain on display"
   ]
  },
  {
   "cell_type": "code",
   "execution_count": 4,
   "metadata": {},
   "outputs": [],
   "source": [
    "# Identifying the website to be scrapped and establishing a connection\n",
    "url = 'https://www.bea.gov/data/gdp/gross-domestic-product'\n",
    "browser.visit(url)\n"
   ]
  },
  {
   "cell_type": "code",
   "execution_count": 5,
   "metadata": {},
   "outputs": [],
   "source": [
    "# Creating a beautifulsoup object and parsing this object\n",
    "html = browser.html\n",
    "soup = BeautifulSoup(html, 'html.parser')\n",
    "#browser.quit() # this command will also close the browser window after scaping"
   ]
  },
  {
   "cell_type": "code",
   "execution_count": 20,
   "metadata": {},
   "outputs": [
    {
     "name": "stdout",
     "output_type": "stream",
     "text": [
      "<table class=\"bea-special table-invisible\">\n",
      "<tbody>\n",
      "<tr class=\"item-fact-row\">\n",
      "<td>\n",
      "<div class=\"field field--name-title field--type-string field--label-hidden field--item\">2nd quarter 2019:</div>\n",
      "</td>\n",
      "<td>\n",
      "<div class=\"field field--name-field-value field--type-string field--label-hidden field--item\">2.0 percent</div>\n",
      "</td>\n",
      "</tr>\n",
      "<tr class=\"item-fact-row\">\n",
      "<td>\n",
      "<div class=\"field field--name-title field--type-string field--label-hidden field--item\">1st quarter 2019:</div>\n",
      "</td>\n",
      "<td>\n",
      "<div class=\"field field--name-field-value field--type-string field--label-hidden field--item\">3.1 percent</div>\n",
      "</td>\n",
      "</tr>\n",
      "</tbody>\n",
      "</table>\n"
     ]
    },
    {
     "data": {
      "text/plain": [
       "3"
      ]
     },
     "execution_count": 20,
     "metadata": {},
     "output_type": "execute_result"
    }
   ],
   "source": [
    "price = soup.find('table', class_='bea-special')\n",
    "print(price)\n",
    "len(price)"
   ]
  },
  {
   "cell_type": "code",
   "execution_count": 30,
   "metadata": {},
   "outputs": [
    {
     "name": "stdout",
     "output_type": "stream",
     "text": [
      "\n",
      "\n",
      "\n",
      "\n",
      "2nd quarter 2019:\n",
      "\n",
      "\n",
      "2.0 percent\n",
      "\n",
      "\n",
      "\n",
      "\n",
      "1st quarter 2019:\n",
      "\n",
      "\n",
      "3.1 percent\n",
      "\n",
      "\n",
      "\n",
      "\n"
     ]
    }
   ],
   "source": [
    "price2 = price.text\n",
    "print(price2)"
   ]
  },
  {
   "cell_type": "code",
   "execution_count": 36,
   "metadata": {},
   "outputs": [
    {
     "name": "stdout",
     "output_type": "stream",
     "text": [
      "2.0 \n"
     ]
    }
   ],
   "source": [
    "y = (price2[24:28])\n",
    "print(y)"
   ]
  },
  {
   "cell_type": "code",
   "execution_count": null,
   "metadata": {},
   "outputs": [],
   "source": []
  }
 ],
 "metadata": {
  "kernelspec": {
   "display_name": "Python 3",
   "language": "python",
   "name": "python3"
  },
  "language_info": {
   "codemirror_mode": {
    "name": "ipython",
    "version": 3
   },
   "file_extension": ".py",
   "mimetype": "text/x-python",
   "name": "python",
   "nbconvert_exporter": "python",
   "pygments_lexer": "ipython3",
   "version": "3.7.3"
  }
 },
 "nbformat": 4,
 "nbformat_minor": 2
}
