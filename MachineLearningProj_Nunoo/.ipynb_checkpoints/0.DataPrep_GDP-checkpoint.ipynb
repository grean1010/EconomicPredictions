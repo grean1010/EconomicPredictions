{
 "cells": [
  {
   "cell_type": "code",
   "execution_count": 1,
   "metadata": {},
   "outputs": [
    {
     "name": "stdout",
     "output_type": "stream",
     "text": [
      "./output_data\n"
     ]
    }
   ],
   "source": [
    "# Dependencies\n",
    "import pandas as pd\n",
    "import os\n",
    "import csv\n",
    "import glob\n",
    "\n",
    "inpath = os.path.join('.','data')\n",
    "outpath = os.path.join('.','output_data')\n",
    "print(outpath)"
   ]
  },
  {
   "cell_type": "code",
   "execution_count": null,
   "metadata": {},
   "outputs": [],
   "source": [
    "# Store filepath in a variable\n",
    "gdp_file = \"data/GDP_Change.csv\"\n",
    "gdp_file_df = pd.read_csv(gdp_file, encoding=\"ISO-8859-1\")\n",
    "#gdp_file_df.dtypes\n",
    "gdp_file_df.head()\n",
    "#gdp_file_df.tail()\n"
   ]
  },
  {
   "cell_type": "code",
   "execution_count": null,
   "metadata": {},
   "outputs": [],
   "source": [
    "gdp_file_df.dtypes\n"
   ]
  },
  {
   "cell_type": "code",
   "execution_count": null,
   "metadata": {},
   "outputs": [],
   "source": [
    "gdp_file_df.to_csv(\"output_data/final_gdp_data.csv\", index=False, header=True)"
   ]
  },
  {
   "cell_type": "code",
   "execution_count": null,
   "metadata": {},
   "outputs": [],
   "source": [
    "# Store filepath in a variable\n",
    "Housing_file = \"data/Housing_Starts.csv\"\n",
    "Housing_file_df = pd.read_csv(Housing_file, encoding=\"ISO-8859-1\")\n",
    "#Housing_file_df.dtypes\n",
    "Housing_file_df.head()\n",
    "#Housing_file_df.tail()"
   ]
  },
  {
   "cell_type": "code",
   "execution_count": null,
   "metadata": {},
   "outputs": [],
   "source": [
    "Housing_file_df.dtypes"
   ]
  },
  {
   "cell_type": "code",
   "execution_count": null,
   "metadata": {},
   "outputs": [],
   "source": [
    "Housing_file_df.to_csv(\"output_data/Housing_Starts_Data.csv\", index=False, header=True)"
   ]
  },
  {
   "cell_type": "code",
   "execution_count": null,
   "metadata": {},
   "outputs": [],
   "source": [
    "# Store filepath in a variable\n",
    "Vehicles_Sold = \"data/Vehicles_Sold.csv\"\n",
    "Vehicles_Sold_df = pd.read_csv(Vehicles_Sold, encoding=\"ISO-8859-1\")\n",
    "#Vehicles_Sold_df.dtypes\n",
    "Vehicles_Sold_df.head()\n",
    "#Vehicles_Sold_df.tail()\n"
   ]
  },
  {
   "cell_type": "code",
   "execution_count": null,
   "metadata": {},
   "outputs": [],
   "source": [
    "Vehicles_Sold_df.dtypes"
   ]
  },
  {
   "cell_type": "code",
   "execution_count": null,
   "metadata": {},
   "outputs": [],
   "source": [
    "Vehicles_Sold_df.to_csv(\"output_data/Vehicles_Sold_Data.csv\", index=False, header=True)"
   ]
  },
  {
   "cell_type": "code",
   "execution_count": null,
   "metadata": {},
   "outputs": [],
   "source": [
    "# Store filepath in a variable\n",
    "Inflation_Rates = \"data/InflationRates1.csv\"\n",
    "Inflation_Rates_df1 = pd.read_csv(Inflation_Rates, encoding=\"ISO-8859-1\")\n",
    "#Inflation_Rates_df1.dtypes\n",
    "Inflation_Rates_df1.head()\n",
    "#Inflation_Rates_df1.tail()"
   ]
  },
  {
   "cell_type": "code",
   "execution_count": null,
   "metadata": {},
   "outputs": [],
   "source": [
    "## Rearranging the columns to make NAICS_Code & Year as primary index columns \n",
    "Inflation_Rates_df1.columns = ['Year',1,2,3,4,5,6,7,8,9,10,11,12]\n",
    "Inflation_Rates_df1.head()"
   ]
  },
  {
   "cell_type": "code",
   "execution_count": null,
   "metadata": {},
   "outputs": [],
   "source": [
    "Inflation_Rates_df2 = Inflation_Rates_df1.melt(id_vars=[\"Year\"],var_name=[\"Month\"],value_name=\"Inflation_Rates\")\n",
    "Inflation_Rates_df2['Day'] = 1 \n",
    "#Inflation_Rates_df2.columns = ['Year','Month','Day','Inflation_Rates']\n",
    "Inflation_Rates_df2.sort_values(by=['Year','Month']).head()\n",
    "#Inflation_Rates_df2.head()"
   ]
  },
  {
   "cell_type": "code",
   "execution_count": null,
   "metadata": {},
   "outputs": [],
   "source": [
    "year = Inflation_Rates_df2[\"Year\"][0]\n",
    "month = Inflation_Rates_df2[\"Month\"][0]\n",
    "day = Inflation_Rates_df2[\"Day\"][0]\n",
    "print(f\"{month}/{day}/{year}\")"
   ]
  },
  {
   "cell_type": "code",
   "execution_count": null,
   "metadata": {},
   "outputs": [],
   "source": [
    "dates = []\n",
    "for index, row in Inflation_Rates_df2.iterrows():\n",
    "    year = row['Year']\n",
    "    month = row['Month']\n",
    "    day = row['Day']\n",
    "    dates.append(f\"{month}/{day}/{year}\")\n",
    "\n",
    "Inflation_Rates_df2[\"Date\"] = dates\n",
    "\n",
    "Inflation_Rates_df2.sort_values(by=['Year','Month']).head()"
   ]
  },
  {
   "cell_type": "code",
   "execution_count": null,
   "metadata": {},
   "outputs": [],
   "source": [
    "# select two columns \n",
    "Inflation_Rates_df = Inflation_Rates_df2[['Date', 'Inflation_Rates']] \n",
    "\n",
    "Inflation_Rates_df.sort_values(by=['Date']).head()"
   ]
  },
  {
   "cell_type": "code",
   "execution_count": null,
   "metadata": {},
   "outputs": [],
   "source": [
    "Inflation_Rates_df.dtypes"
   ]
  },
  {
   "cell_type": "code",
   "execution_count": null,
   "metadata": {},
   "outputs": [],
   "source": [
    "Inflation_Rates_df.to_csv(\"output_data/Inflation_Rates_Data.csv\", index=False, header=True)"
   ]
  },
  {
   "cell_type": "code",
   "execution_count": null,
   "metadata": {},
   "outputs": [],
   "source": [
    "# Merge two dataframes using an inner join\n",
    "merge_table = pd.merge(gdp_file_df, Housing_file_df, Vehicles_Sold_df, Inflation_Rates_df, on=\"Date\")\n",
    "merge_table"
   ]
  },
  {
   "cell_type": "code",
   "execution_count": null,
   "metadata": {},
   "outputs": [],
   "source": [
    "gdp_df2.rename(columns={'GeoName':'Quarter',\n",
    "                          'St':'State',\n",
    "                          'GDP':'GDP Change'}, \n",
    "                 inplace=True)\n",
    " \n",
    "print(gdp_df2.columns)"
   ]
  },
  {
   "cell_type": "code",
   "execution_count": null,
   "metadata": {},
   "outputs": [],
   "source": [
    "# Export file as a CSV, without the Pandas index, but with the header\n",
    "outfile = os.path.join(outpath,'final_gdpdata.csv')\n",
    "gdp_file.to_csv(outfile, index=False, header=True)"
   ]
  },
  {
   "cell_type": "code",
   "execution_count": null,
   "metadata": {},
   "outputs": [],
   "source": []
  }
 ],
 "metadata": {
  "kernelspec": {
   "display_name": "Python 3",
   "language": "python",
   "name": "python3"
  },
  "language_info": {
   "codemirror_mode": {
    "name": "ipython",
    "version": 3
   },
   "file_extension": ".py",
   "mimetype": "text/x-python",
   "name": "python",
   "nbconvert_exporter": "python",
   "pygments_lexer": "ipython3",
   "version": "3.7.3"
  }
 },
 "nbformat": 4,
 "nbformat_minor": 2
}
