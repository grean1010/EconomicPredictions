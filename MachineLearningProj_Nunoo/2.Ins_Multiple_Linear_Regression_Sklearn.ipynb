{
 "cells": [
  {
   "cell_type": "code",
   "execution_count": 1,
   "metadata": {
    "slideshow": {
     "slide_type": "skip"
    }
   },
   "outputs": [],
   "source": [
    "%matplotlib inline\n",
    "import matplotlib.pyplot as plt\n",
    "import pandas as pd\n",
    "import numpy as np\n",
    "import seaborn as sns\n",
    "import os\n",
    "import csv\n",
    "import glob\n",
    "\n",
    "\n",
    "from sklearn import preprocessing\n",
    "import matplotlib.pyplot as plt \n",
    "plt.rc(\"font\", size=14)\n",
    "from sklearn.linear_model import LogisticRegression\n",
    "from sklearn.datasets import make_regression\n",
    "from sklearn.model_selection import train_test_split\n",
    "sns.set(style=\"white\")\n",
    "sns.set(style=\"whitegrid\", color_codes=True)"
   ]
  },
  {
   "cell_type": "markdown",
   "metadata": {
    "slideshow": {
     "slide_type": "slide"
    }
   },
   "source": [
    "# Multiple Linear Regression"
   ]
  },
  {
   "cell_type": "markdown",
   "metadata": {
    "slideshow": {
     "slide_type": "fragment"
    }
   },
   "source": [
    "The generic formula is:\n",
    "\n",
    "$Y_i = Bias_0 + Weight_1 Feature_1 + Weight_2 Feature_2 + \\ldots + Weight_p Feature_p$"
   ]
  },
  {
   "cell_type": "code",
   "execution_count": 2,
   "metadata": {},
   "outputs": [
    {
     "data": {
      "text/html": [
       "<div>\n",
       "<style scoped>\n",
       "    .dataframe tbody tr th:only-of-type {\n",
       "        vertical-align: middle;\n",
       "    }\n",
       "\n",
       "    .dataframe tbody tr th {\n",
       "        vertical-align: top;\n",
       "    }\n",
       "\n",
       "    .dataframe thead th {\n",
       "        text-align: right;\n",
       "    }\n",
       "</style>\n",
       "<table border=\"1\" class=\"dataframe\">\n",
       "  <thead>\n",
       "    <tr style=\"text-align: right;\">\n",
       "      <th></th>\n",
       "      <th>date</th>\n",
       "      <th>recession</th>\n",
       "      <th>gdp_change</th>\n",
       "      <th>median_house</th>\n",
       "      <th>gold_price</th>\n",
       "      <th>dow_open</th>\n",
       "      <th>fed_rate</th>\n",
       "      <th>InvYield_10yr_5yr</th>\n",
       "      <th>unemp_rate</th>\n",
       "      <th>earnings_chg</th>\n",
       "      <th>cpi</th>\n",
       "      <th>inflation</th>\n",
       "      <th>housing_starts</th>\n",
       "    </tr>\n",
       "  </thead>\n",
       "  <tbody>\n",
       "    <tr>\n",
       "      <th>674</th>\n",
       "      <td>3/19/19</td>\n",
       "      <td>0</td>\n",
       "      <td>2.7</td>\n",
       "      <td>310600</td>\n",
       "      <td>1302.286</td>\n",
       "      <td>25025.31</td>\n",
       "      <td>2.40</td>\n",
       "      <td>0.20</td>\n",
       "      <td>3.8</td>\n",
       "      <td>153</td>\n",
       "      <td>254.202</td>\n",
       "      <td>0.56</td>\n",
       "      <td>1199</td>\n",
       "    </tr>\n",
       "    <tr>\n",
       "      <th>675</th>\n",
       "      <td>4/19/19</td>\n",
       "      <td>0</td>\n",
       "      <td>2.3</td>\n",
       "      <td>339000</td>\n",
       "      <td>1287.650</td>\n",
       "      <td>26019.67</td>\n",
       "      <td>2.41</td>\n",
       "      <td>0.17</td>\n",
       "      <td>3.6</td>\n",
       "      <td>216</td>\n",
       "      <td>255.548</td>\n",
       "      <td>0.53</td>\n",
       "      <td>1270</td>\n",
       "    </tr>\n",
       "    <tr>\n",
       "      <th>676</th>\n",
       "      <td>5/19/19</td>\n",
       "      <td>0</td>\n",
       "      <td>2.3</td>\n",
       "      <td>311000</td>\n",
       "      <td>1282.460</td>\n",
       "      <td>26075.10</td>\n",
       "      <td>2.45</td>\n",
       "      <td>0.21</td>\n",
       "      <td>3.6</td>\n",
       "      <td>62</td>\n",
       "      <td>256.092</td>\n",
       "      <td>0.21</td>\n",
       "      <td>1264</td>\n",
       "    </tr>\n",
       "    <tr>\n",
       "      <th>677</th>\n",
       "      <td>6/19/19</td>\n",
       "      <td>0</td>\n",
       "      <td>2.3</td>\n",
       "      <td>306000</td>\n",
       "      <td>1358.488</td>\n",
       "      <td>26639.06</td>\n",
       "      <td>2.38</td>\n",
       "      <td>0.22</td>\n",
       "      <td>3.7</td>\n",
       "      <td>178</td>\n",
       "      <td>256.143</td>\n",
       "      <td>0.02</td>\n",
       "      <td>1233</td>\n",
       "    </tr>\n",
       "    <tr>\n",
       "      <th>678</th>\n",
       "      <td>7/19/19</td>\n",
       "      <td>0</td>\n",
       "      <td>2.3</td>\n",
       "      <td>312800</td>\n",
       "      <td>1414.611</td>\n",
       "      <td>24830.16</td>\n",
       "      <td>2.39</td>\n",
       "      <td>0.25</td>\n",
       "      <td>3.7</td>\n",
       "      <td>159</td>\n",
       "      <td>256.571</td>\n",
       "      <td>0.17</td>\n",
       "      <td>1215</td>\n",
       "    </tr>\n",
       "  </tbody>\n",
       "</table>\n",
       "</div>"
      ],
      "text/plain": [
       "        date  recession  gdp_change  median_house  gold_price  dow_open  \\\n",
       "674  3/19/19          0         2.7        310600    1302.286  25025.31   \n",
       "675  4/19/19          0         2.3        339000    1287.650  26019.67   \n",
       "676  5/19/19          0         2.3        311000    1282.460  26075.10   \n",
       "677  6/19/19          0         2.3        306000    1358.488  26639.06   \n",
       "678  7/19/19          0         2.3        312800    1414.611  24830.16   \n",
       "\n",
       "     fed_rate  InvYield_10yr_5yr  unemp_rate  earnings_chg      cpi  \\\n",
       "674      2.40               0.20         3.8           153  254.202   \n",
       "675      2.41               0.17         3.6           216  255.548   \n",
       "676      2.45               0.21         3.6            62  256.092   \n",
       "677      2.38               0.22         3.7           178  256.143   \n",
       "678      2.39               0.25         3.7           159  256.571   \n",
       "\n",
       "     inflation  housing_starts  \n",
       "674       0.56            1199  \n",
       "675       0.53            1270  \n",
       "676       0.21            1264  \n",
       "677       0.02            1233  \n",
       "678       0.17            1215  "
      ]
     },
     "execution_count": 2,
     "metadata": {},
     "output_type": "execute_result"
    }
   ],
   "source": [
    "# Store filepath in a variable\n",
    "myData = \"data/Combined_Data_Base_PN.csv\"\n",
    "myData_df = pd.read_csv(myData, encoding=\"ISO-8859-1\")\n",
    "#myData_df.dtypes\n",
    "#myData_df.head()\n",
    "myData_df.tail()"
   ]
  },
  {
   "cell_type": "code",
   "execution_count": 3,
   "metadata": {},
   "outputs": [],
   "source": [
    "cols= ['median_house','gold_price','dow_open','fed_rate','InvYield_10yr_5yr','unemp_rate','cpi','earnings_chg',\n",
    "       'inflation','housing_starts']\n",
    "# 'gdp_change',\n",
    "\n",
    "\n",
    "X=myData_df[cols]\n",
    "y=myData_df['gdp_change']"
   ]
  },
  {
   "cell_type": "code",
   "execution_count": 11,
   "metadata": {
    "slideshow": {
     "slide_type": "fragment"
    }
   },
   "outputs": [
    {
     "data": {
      "text/plain": [
       "LinearRegression(copy_X=True, fit_intercept=True, n_jobs=None,\n",
       "         normalize=False)"
      ]
     },
     "execution_count": 11,
     "metadata": {},
     "output_type": "execute_result"
    }
   ],
   "source": [
    "\n",
    "\n",
    "X, y = make_regression()\n",
    "model.fit(X, y)\n"
   ]
  },
  {
   "cell_type": "code",
   "execution_count": 12,
   "metadata": {
    "slideshow": {
     "slide_type": "subslide"
    }
   },
   "outputs": [
    {
     "name": "stdout",
     "output_type": "stream",
     "text": [
      "R2 Score: 1.0\n"
     ]
    }
   ],
   "source": [
    "\n",
    "model = LinearRegression()\n",
    "# Fitting our model with all of our features in X\n",
    "model.fit(X, y)\n",
    "\n",
    "score = model.score(X, y)\n",
    "print(f\"R2 Score: {score}\")"
   ]
  },
  {
   "cell_type": "markdown",
   "metadata": {
    "slideshow": {
     "slide_type": "slide"
    }
   },
   "source": [
    "## Residuals"
   ]
  },
  {
   "cell_type": "code",
   "execution_count": 13,
   "metadata": {
    "slideshow": {
     "slide_type": "subslide"
    }
   },
   "outputs": [
    {
     "data": {
      "image/png": "[encoded data removed]",
      "text/plain": [
       "<Figure size 432x288 with 1 Axes>"
      ]
     },
     "metadata": {
      "needs_background": "light"
     },
     "output_type": "display_data"
    }
   ],
   "source": [
    "predictions = model.predict(X)\n",
    "# Plot Residuals\n",
    "plt.scatter(predictions, predictions - y)\n",
    "plt.hlines(y=0, xmin=predictions.min(), xmax=predictions.max())\n",
    "plt.show()"
   ]
  },
  {
   "cell_type": "markdown",
   "metadata": {
    "slideshow": {
     "slide_type": "fragment"
    }
   },
   "source": [
    "We want our predictions to be close to zero on the y-axis in this plot."
   ]
  },
  {
   "cell_type": "markdown",
   "metadata": {
    "slideshow": {
     "slide_type": "slide"
    }
   },
   "source": [
    "## Your Turn!"
   ]
  }
 ],
 "metadata": {
  "anaconda-cloud": {},
  "celltoolbar": "Slideshow",
  "kernelspec": {
   "display_name": "Python 3",
   "language": "python",
   "name": "python3"
  },
  "language_info": {
   "codemirror_mode": {
    "name": "ipython",
    "version": 3
   },
   "file_extension": ".py",
   "mimetype": "text/x-python",
   "name": "python",
   "nbconvert_exporter": "python",
   "pygments_lexer": "ipython3",
   "version": "3.7.3"
  },
  "varInspector": {
   "cols": {
    "lenName": 16,
    "lenType": 16,
    "lenVar": 40
   },
   "kernels_config": {
    "python": {
     "delete_cmd_postfix": "",
     "delete_cmd_prefix": "del ",
     "library": "var_list.py",
     "varRefreshCmd": "print(var_dic_list())"
    },
    "r": {
     "delete_cmd_postfix": ") ",
     "delete_cmd_prefix": "rm(",
     "library": "var_list.r",
     "varRefreshCmd": "cat(var_dic_list()) "
    }
   },
   "types_to_exclude": [
    "module",
    "function",
    "builtin_function_or_method",
    "instance",
    "_Feature"
   ],
   "window_display": false
  }
 },
 "nbformat": 4,
 "nbformat_minor": 2
}
